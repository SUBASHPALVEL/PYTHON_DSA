{
 "cells": [
  {
   "cell_type": "code",
   "execution_count": 1,
   "id": "44747f8c-8b1c-4af9-950c-cad1496b020f",
   "metadata": {},
   "outputs": [
    {
     "name": "stdout",
     "output_type": "stream",
     "text": [
      "0 Apple\n",
      "1 Orange\n",
      "2 Grapes\n"
     ]
    }
   ],
   "source": [
    "my_list = [\"Apple\", \"Orange\", \"Grapes\"]\n",
    "for (index,fruit) in enumerate(my_list):\n",
    "    print(index,fruit)"
   ]
  },
  {
   "cell_type": "code",
   "execution_count": 2,
   "id": "edf82952-f14e-4805-b977-e92e58403c5a",
   "metadata": {},
   "outputs": [
    {
     "name": "stdout",
     "output_type": "stream",
     "text": [
      "('vijay', 'Samantha', 'Theri')\n",
      "('Ajith', 'Trisha', 'YA')\n",
      "('Surya', 'Jyothika', 'KK')\n"
     ]
    }
   ],
   "source": [
    "hero = [\"vijay\", \"Ajith\", \"Surya\"]\n",
    "heroine = [\"Samantha\", \"Trisha\", \"Jyothika\"]\n",
    "movie = [\"Theri\", \"YA\", \"KK\"]\n",
    "\n",
    "for values in zip(hero,heroine,movie):\n",
    "    print(values)"
   ]
  },
  {
   "cell_type": "markdown",
   "id": "d2f85f9a-4743-48cc-8eb2-630dedc0fd86",
   "metadata": {},
   "source": [
    "## Unpacking"
   ]
  },
  {
   "cell_type": "code",
   "execution_count": 3,
   "id": "0e2e040a-531a-403f-8dbc-a76310f885db",
   "metadata": {},
   "outputs": [
    {
     "name": "stdout",
     "output_type": "stream",
     "text": [
      "1\n",
      "2\n"
     ]
    }
   ],
   "source": [
    "a, b = (1,2)\n",
    "print(a)\n",
    "print(b)"
   ]
  },
  {
   "cell_type": "markdown",
   "id": "dab83cb2-f32b-4129-b7a3-ee8f018003f1",
   "metadata": {},
   "source": [
    "If we need a single value"
   ]
  },
  {
   "cell_type": "code",
   "execution_count": 4,
   "id": "336df1ba-fb62-437b-b033-2e35a05fccd0",
   "metadata": {},
   "outputs": [
    {
     "name": "stdout",
     "output_type": "stream",
     "text": [
      "1\n"
     ]
    }
   ],
   "source": [
    "a, _ = (1,2)\n",
    "print(a)"
   ]
  },
  {
   "cell_type": "code",
   "execution_count": 5,
   "id": "5a8b7fcc-697f-43b5-a4ea-5f92375ca7c6",
   "metadata": {},
   "outputs": [
    {
     "name": "stdout",
     "output_type": "stream",
     "text": [
      "1\n",
      "2\n",
      "[3, 4, 5]\n"
     ]
    }
   ],
   "source": [
    "a, b, *c = (1,2,3,4,5)\n",
    "print(a)\n",
    "print(b)\n",
    "print(c)"
   ]
  },
  {
   "cell_type": "code",
   "execution_count": 6,
   "id": "2d860538-7d47-46c3-a5a5-e98fa9314366",
   "metadata": {},
   "outputs": [
    {
     "name": "stdout",
     "output_type": "stream",
     "text": [
      "1\n",
      "2\n"
     ]
    }
   ],
   "source": [
    "a, b, *_ = (1,2,3,4,5)\n",
    "print(a)\n",
    "print(b)"
   ]
  },
  {
   "cell_type": "markdown",
   "id": "f5debeba-a795-49bb-87ca-77670fb311e9",
   "metadata": {},
   "source": [
    "## Listing Methods in Package"
   ]
  },
  {
   "cell_type": "code",
   "execution_count": 7,
   "id": "a337e5da-e775-497b-b26e-e635b306feaf",
   "metadata": {},
   "outputs": [
    {
     "data": {
      "text/plain": [
       "['__add__',\n",
       " '__class__',\n",
       " '__delattr__',\n",
       " '__dir__',\n",
       " '__doc__',\n",
       " '__eq__',\n",
       " '__format__',\n",
       " '__ge__',\n",
       " '__getattribute__',\n",
       " '__gt__',\n",
       " '__hash__',\n",
       " '__init__',\n",
       " '__init_subclass__',\n",
       " '__le__',\n",
       " '__lt__',\n",
       " '__ne__',\n",
       " '__new__',\n",
       " '__radd__',\n",
       " '__reduce__',\n",
       " '__reduce_ex__',\n",
       " '__repr__',\n",
       " '__rsub__',\n",
       " '__setattr__',\n",
       " '__sizeof__',\n",
       " '__str__',\n",
       " '__sub__',\n",
       " '__subclasshook__',\n",
       " 'astimezone',\n",
       " 'combine',\n",
       " 'ctime',\n",
       " 'date',\n",
       " 'day',\n",
       " 'dst',\n",
       " 'fold',\n",
       " 'fromisocalendar',\n",
       " 'fromisoformat',\n",
       " 'fromordinal',\n",
       " 'fromtimestamp',\n",
       " 'hour',\n",
       " 'isocalendar',\n",
       " 'isoformat',\n",
       " 'isoweekday',\n",
       " 'max',\n",
       " 'microsecond',\n",
       " 'min',\n",
       " 'minute',\n",
       " 'month',\n",
       " 'now',\n",
       " 'replace',\n",
       " 'resolution',\n",
       " 'second',\n",
       " 'strftime',\n",
       " 'strptime',\n",
       " 'time',\n",
       " 'timestamp',\n",
       " 'timetuple',\n",
       " 'timetz',\n",
       " 'today',\n",
       " 'toordinal',\n",
       " 'tzinfo',\n",
       " 'tzname',\n",
       " 'utcfromtimestamp',\n",
       " 'utcnow',\n",
       " 'utcoffset',\n",
       " 'utctimetuple',\n",
       " 'weekday',\n",
       " 'year']"
      ]
     },
     "execution_count": 7,
     "metadata": {},
     "output_type": "execute_result"
    }
   ],
   "source": [
    "from datetime import datetime\n",
    "dir(datetime)"
   ]
  },
  {
   "cell_type": "code",
   "execution_count": null,
   "id": "16aae1ea-abbd-441a-bb5a-29b6ba6e9e8a",
   "metadata": {},
   "outputs": [],
   "source": []
  },
  {
   "cell_type": "code",
   "execution_count": null,
   "id": "ad5d0556-045d-4680-b7f6-def964564090",
   "metadata": {},
   "outputs": [],
   "source": []
  },
  {
   "cell_type": "code",
   "execution_count": null,
   "id": "830aa4f3-6806-465a-bc56-30713c76edc4",
   "metadata": {},
   "outputs": [],
   "source": []
  },
  {
   "cell_type": "code",
   "execution_count": null,
   "id": "311d1b19-d5ee-4086-91dd-b1c35c5d6bb8",
   "metadata": {},
   "outputs": [],
   "source": []
  }
 ],
 "metadata": {
  "kernelspec": {
   "display_name": "venv",
   "language": "python",
   "name": "venv"
  },
  "language_info": {
   "codemirror_mode": {
    "name": "ipython",
    "version": 3
   },
   "file_extension": ".py",
   "mimetype": "text/x-python",
   "name": "python",
   "nbconvert_exporter": "python",
   "pygments_lexer": "ipython3",
   "version": "3.10.6"
  }
 },
 "nbformat": 4,
 "nbformat_minor": 5
}
