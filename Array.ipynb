{
 "cells": [
  {
   "cell_type": "code",
   "execution_count": 21,
   "id": "7853db1c-dd2a-45da-ad16-68c3ab930b60",
   "metadata": {},
   "outputs": [
    {
     "data": {
      "text/plain": [
       "list"
      ]
     },
     "execution_count": 21,
     "metadata": {},
     "output_type": "execute_result"
    }
   ],
   "source": [
    "my_list = [1, 2, 3, 4, 5]\n",
    "type(my_list)"
   ]
  },
  {
   "cell_type": "markdown",
   "id": "4fc6554a-14fe-4db9-936a-67cd7705a6b8",
   "metadata": {},
   "source": [
    "## Using Array Module"
   ]
  },
  {
   "cell_type": "code",
   "execution_count": 48,
   "id": "743ded7a-aa95-4a0e-9f7d-2a21e26d585c",
   "metadata": {},
   "outputs": [],
   "source": [
    "from array import array\n",
    "\n",
    "# The first argument specifies the type of elements in the array (e.g., 'i' for integers)\n",
    "# The second argument is a list of values to initialize the array\n",
    "\n",
    "my_array = array('i', [1, 2, 3, 4, 5])"
   ]
  },
  {
   "cell_type": "code",
   "execution_count": 49,
   "id": "45b182a1-3bd3-4dc5-9d1e-d5041480c36e",
   "metadata": {},
   "outputs": [
    {
     "data": {
      "text/plain": [
       "array('i', [1, 2, 3, 4, 5])"
      ]
     },
     "execution_count": 49,
     "metadata": {},
     "output_type": "execute_result"
    }
   ],
   "source": [
    "my_array"
   ]
  },
  {
   "cell_type": "code",
   "execution_count": 50,
   "id": "e7c8be3a-867a-4a55-8b6e-d5b87d7d502a",
   "metadata": {},
   "outputs": [
    {
     "data": {
      "text/plain": [
       "1"
      ]
     },
     "execution_count": 50,
     "metadata": {},
     "output_type": "execute_result"
    }
   ],
   "source": [
    "my_array[0]"
   ]
  },
  {
   "cell_type": "code",
   "execution_count": 51,
   "id": "e01a3ed6-b5e6-4b59-bd5c-9105c3020bd0",
   "metadata": {},
   "outputs": [],
   "source": [
    "my_array[0] = 6"
   ]
  },
  {
   "cell_type": "code",
   "execution_count": 52,
   "id": "096a3db9-72f8-4d52-b05a-10e81cc1d89b",
   "metadata": {},
   "outputs": [
    {
     "data": {
      "text/plain": [
       "array('i', [6, 2, 3, 4, 5])"
      ]
     },
     "execution_count": 52,
     "metadata": {},
     "output_type": "execute_result"
    }
   ],
   "source": [
    "my_array"
   ]
  },
  {
   "cell_type": "code",
   "execution_count": 53,
   "id": "c47c5e7b-e07f-4dd1-b63a-dc3f07081174",
   "metadata": {},
   "outputs": [],
   "source": [
    "my_array.insert(0,1)"
   ]
  },
  {
   "cell_type": "code",
   "execution_count": 54,
   "id": "e497c429-acdc-41c0-bf5e-da3011a3a8cc",
   "metadata": {},
   "outputs": [
    {
     "data": {
      "text/plain": [
       "array('i', [1, 6, 2, 3, 4, 5])"
      ]
     },
     "execution_count": 54,
     "metadata": {},
     "output_type": "execute_result"
    }
   ],
   "source": [
    "my_array"
   ]
  },
  {
   "cell_type": "code",
   "execution_count": 55,
   "id": "8c999666-d4c9-4f80-9035-9c08d959df2e",
   "metadata": {},
   "outputs": [
    {
     "data": {
      "text/plain": [
       "1"
      ]
     },
     "execution_count": 55,
     "metadata": {},
     "output_type": "execute_result"
    }
   ],
   "source": [
    "my_array.pop(0)   #where 0 is index"
   ]
  },
  {
   "cell_type": "code",
   "execution_count": 56,
   "id": "2c56835c-3c05-4343-96c9-61bad71f881d",
   "metadata": {},
   "outputs": [
    {
     "data": {
      "text/plain": [
       "array('i', [6, 2, 3, 4, 5])"
      ]
     },
     "execution_count": 56,
     "metadata": {},
     "output_type": "execute_result"
    }
   ],
   "source": [
    "my_array"
   ]
  },
  {
   "cell_type": "markdown",
   "id": "53208e77-24c3-4562-b714-ea49a55f35f1",
   "metadata": {},
   "source": [
    "## Using Numpy Module"
   ]
  },
  {
   "cell_type": "code",
   "execution_count": 59,
   "id": "95b79b55-e875-4b58-8955-c0324b812c75",
   "metadata": {},
   "outputs": [],
   "source": [
    "import numpy as np\n",
    "\n",
    "my_array = np.array([1, 2, 3, 4, 5])"
   ]
  },
  {
   "cell_type": "code",
   "execution_count": 60,
   "id": "41373aef-e0f9-40b5-bf94-3c5d4124023b",
   "metadata": {},
   "outputs": [
    {
     "data": {
      "text/plain": [
       "array([1, 2, 3, 4, 5])"
      ]
     },
     "execution_count": 60,
     "metadata": {},
     "output_type": "execute_result"
    }
   ],
   "source": [
    "my_array"
   ]
  },
  {
   "cell_type": "code",
   "execution_count": 61,
   "id": "82484bc3-7b6c-4d17-ade5-f2aac1155f18",
   "metadata": {},
   "outputs": [],
   "source": [
    "my_array = np.insert(my_array,0,10)"
   ]
  },
  {
   "cell_type": "code",
   "execution_count": 62,
   "id": "6df4a83d-99a9-465f-928e-bc95dfd8c600",
   "metadata": {},
   "outputs": [
    {
     "data": {
      "text/plain": [
       "array([10,  1,  2,  3,  4,  5])"
      ]
     },
     "execution_count": 62,
     "metadata": {},
     "output_type": "execute_result"
    }
   ],
   "source": [
    "my_array"
   ]
  },
  {
   "cell_type": "code",
   "execution_count": 65,
   "id": "18981de9-4a77-4d17-a263-d1bd8234c0f2",
   "metadata": {},
   "outputs": [],
   "source": [
    "new_array = np.delete(my_array, 0)"
   ]
  },
  {
   "cell_type": "code",
   "execution_count": 66,
   "id": "716ae5ed-c516-4a43-a521-7d90352a5c4f",
   "metadata": {},
   "outputs": [
    {
     "data": {
      "text/plain": [
       "array([1, 2, 3, 4, 5])"
      ]
     },
     "execution_count": 66,
     "metadata": {},
     "output_type": "execute_result"
    }
   ],
   "source": [
    "new_array"
   ]
  },
  {
   "cell_type": "markdown",
   "id": "21a83756-504f-4c3e-ac92-5524bf9b55cb",
   "metadata": {},
   "source": [
    "## Array of Characters"
   ]
  },
  {
   "cell_type": "code",
   "execution_count": 39,
   "id": "d4daf02b-c768-4d41-89a1-8717c70fedc5",
   "metadata": {},
   "outputs": [],
   "source": [
    "char_array = array('u',[\"a\", \"b\", \"c\"])"
   ]
  },
  {
   "cell_type": "code",
   "execution_count": 40,
   "id": "893849f7-888f-4637-86a7-c5ab8c292906",
   "metadata": {},
   "outputs": [
    {
     "data": {
      "text/plain": [
       "array('u', 'abc')"
      ]
     },
     "execution_count": 40,
     "metadata": {},
     "output_type": "execute_result"
    }
   ],
   "source": [
    "char_array"
   ]
  },
  {
   "cell_type": "markdown",
   "id": "6f442c04-5872-4caf-942c-7ac2ded3aa6b",
   "metadata": {},
   "source": [
    "&therefore; Array of characters will be converted into string"
   ]
  },
  {
   "cell_type": "markdown",
   "id": "37a364bf-baa5-4d41-bd02-04bb613b526c",
   "metadata": {},
   "source": [
    "## Numpy array differences "
   ]
  },
  {
   "cell_type": "code",
   "execution_count": 44,
   "id": "2de480c8-65eb-416b-996c-9cd9605ab51d",
   "metadata": {},
   "outputs": [],
   "source": [
    "fruit = [\"Apple\",\"Orange\",1]"
   ]
  },
  {
   "cell_type": "code",
   "execution_count": 45,
   "id": "2ff0ee95-4d33-431f-ae05-88fe897fea83",
   "metadata": {},
   "outputs": [],
   "source": [
    "fruit_array = np.array(fruit)"
   ]
  },
  {
   "cell_type": "code",
   "execution_count": 46,
   "id": "ade17171-997a-4e8a-8fff-73941d299e8b",
   "metadata": {},
   "outputs": [
    {
     "data": {
      "text/plain": [
       "array(['Apple', 'Orange', '1'], dtype='<U11')"
      ]
     },
     "execution_count": 46,
     "metadata": {},
     "output_type": "execute_result"
    }
   ],
   "source": [
    "fruit_array"
   ]
  },
  {
   "cell_type": "markdown",
   "id": "ed4f4e40-eab0-4fe4-939c-afcef2e20072",
   "metadata": {},
   "source": [
    "Note: Data type is changed"
   ]
  },
  {
   "cell_type": "code",
   "execution_count": null,
   "id": "4c985dc2-c76d-4a38-a919-3a3e1552eebb",
   "metadata": {},
   "outputs": [],
   "source": []
  }
 ],
 "metadata": {
  "kernelspec": {
   "display_name": "venv",
   "language": "python",
   "name": "venv"
  },
  "language_info": {
   "codemirror_mode": {
    "name": "ipython",
    "version": 3
   },
   "file_extension": ".py",
   "mimetype": "text/x-python",
   "name": "python",
   "nbconvert_exporter": "python",
   "pygments_lexer": "ipython3",
   "version": "3.10.6"
  }
 },
 "nbformat": 4,
 "nbformat_minor": 5
}
